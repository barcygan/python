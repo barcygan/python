{
  "nbformat": 4,
  "nbformat_minor": 0,
  "metadata": {
    "colab": {
      "name": "kalkulator_wagi.ipynb",
      "provenance": [],
      "collapsed_sections": [],
      "mount_file_id": "1uwty6E0PL0w-NyO_1J9s6vKj-gNgxOJB",
      "authorship_tag": "ABX9TyOL6T/KLlZP+DEYQbRP6aKc",
      "include_colab_link": true
    },
    "kernelspec": {
      "name": "python3",
      "display_name": "Python 3"
    }
  },
  "cells": [
    {
      "cell_type": "markdown",
      "metadata": {
        "id": "view-in-github",
        "colab_type": "text"
      },
      "source": [
        "<a href=\"https://colab.research.google.com/github/barcygan/python/blob/master/kalkulator_wagi.ipynb\" target=\"_parent\"><img src=\"https://colab.research.google.com/assets/colab-badge.svg\" alt=\"Open In Colab\"/></a>"
      ]
    },
    {
      "cell_type": "markdown",
      "metadata": {
        "id": "WlAP7pW4aa5G",
        "colab_type": "text"
      },
      "source": [
        "**Weight measuerement data based on Google Sheet (COLAB)**\n",
        "\n",
        "What for? \n",
        "1.   Saving history of Your weight measurement\n",
        "2.   Checking history of Your weight measurement\n",
        "3.   Data visualisation for Your progress (or recourse :(( )\n",
        "[link text](https://)\n"
      ]
    },
    {
      "cell_type": "code",
      "metadata": {
        "id": "mMgspa8zgCHh",
        "colab_type": "code",
        "colab": {
          "base_uri": "https://localhost:8080/",
          "height": 88
        },
        "outputId": "74ebfff3-84f8-42de-8b0c-75e3106170d5"
      },
      "source": [
        "#Asking for date\n",
        "from dateutil import parser\n",
        "l=True\n",
        "while l:\n",
        "  decision = input('Czy pomiar był dzisiaj? Y - Yes, N - NO  ')\n",
        "  if decision == 'Y':\n",
        "    data_dzisiaj = datetime.today().strftime('%Y-%m-%d')\n",
        "    l=False\n",
        "\n",
        "\n",
        "\n",
        "  else:\n",
        "      try:\n",
        "          data_dzisiaj = parser.parse(input(\"Enter date: \" ))\n",
        "      \n",
        "      except ValueError:\n",
        "          print(\"To nie jest data.\")\n",
        "          continue\n",
        "      else:\n",
        "        #Weight was successfully parsed!\n",
        "\n",
        "          break\n"
      ],
      "execution_count": 93,
      "outputs": [
        {
          "output_type": "stream",
          "text": [
            "Czy pomiar był dzisiaj? Y - Yes, N - NO  y\n",
            "Enter date: y\n",
            "To nie jest data.\n",
            "Czy pomiar był dzisiaj? Y - Yes, N - NO  Y\n"
          ],
          "name": "stdout"
        }
      ]
    },
    {
      "cell_type": "code",
      "metadata": {
        "id": "98-8d4wFvRc0",
        "colab_type": "code",
        "colab": {
          "base_uri": "https://localhost:8080/",
          "height": 53
        },
        "outputId": "0709197f-cc4a-4e69-8b46-84246e699448"
      },
      "source": [
        "from dateutil import parser\n",
        "\n",
        "\n",
        "###########################################################################\n",
        "#Getting current weight measurement\n",
        "\n",
        "while True:\n",
        "    try:\n",
        "        waga = float(input(\"Please enter your weight: \"))\n",
        "    except ValueError:\n",
        "        print(\"To nie jest liczba.\")\n",
        "        continue\n",
        "    else:\n",
        "        #Weight was successfully parsed!\n",
        "        break\n",
        "\n",
        "\n",
        "print(f'Twoja dzisiejsza waga to : {waga} kg')\n",
        "\n",
        "#########################################################################\n",
        "\n",
        "\n",
        "\n",
        "\n",
        "\n"
      ],
      "execution_count": 90,
      "outputs": [
        {
          "output_type": "stream",
          "text": [
            "Please enter your weight: 54\n",
            "Twoja dzisiejsza waga to : 54.0 kg\n"
          ],
          "name": "stdout"
        }
      ]
    },
    {
      "cell_type": "code",
      "metadata": {
        "id": "l_N6cu40QPUb",
        "colab_type": "code",
        "colab": {
          "base_uri": "https://localhost:8080/",
          "height": 35
        },
        "outputId": "a61e2a11-0d98-40a7-9d82-c4b024ca6d65"
      },
      "source": [
        "import gspread\n",
        "from oauth2client.service_account import ServiceAccountCredentials\n",
        "import gspread\n",
        "import pandas as pd\n",
        "from datetime import datetime\n",
        "import seaborn as sns\n",
        "import numpy as np\n",
        "import matplotlib.pyplot as plt\n",
        "\n",
        "#Connecting to Google Sheets\n",
        "\n",
        "# use creds to create a client to interact with the Google Drive API\n",
        "scope = ['https://spreadsheets.google.com/feeds', 'https://www.googleapis.com/auth/drive']\n",
        "path='/content/drive/My Drive/Colab Notebooks/bigquery-262509-fbf7094d4de6.json'\n",
        "creds = ServiceAccountCredentials.from_json_keyfile_name(path, scope)\n",
        "client = gspread.authorize(creds)\n",
        "\n",
        "# Find a workbook by name and open the first sheet\n",
        "sheet = client.open(\"waga\").sheet1\n",
        "\n",
        "\n",
        "#Looking for last free row to fill up with datas\n",
        "sheet_size = len(sheet.col_values(1))\n",
        "\n",
        "#Getting current date\n",
        "########### TO DO : asking and checking if measurement time == current date############\n",
        "\n",
        "\n",
        "#Add current weight and weight measurement time to Google Sheet\n",
        "\n",
        "append_date =  sheet.update_cell(sheet_size+1, 2, data_dzisiaj)\n",
        "append_weight =  sheet.update_cell(sheet_size+1, 1, str(waga))\n",
        "\n",
        "\n",
        "print(data_dzisiaj)\n"
      ],
      "execution_count": 94,
      "outputs": [
        {
          "output_type": "stream",
          "text": [
            "2020-07-16\n"
          ],
          "name": "stdout"
        }
      ]
    },
    {
      "cell_type": "code",
      "metadata": {
        "id": "SNrzYdhB0YBn",
        "colab_type": "code",
        "colab": {
          "base_uri": "https://localhost:8080/",
          "height": 352
        },
        "outputId": "e6f7bb66-6690-4d7a-b951-b665b26babef"
      },
      "source": [
        "#Odczytanie arkusza w pandas\n",
        "%matplotlib inline\n",
        "\n",
        "data = sheet.get_all_values()\n",
        "headers = data.pop(0)\n",
        "\n",
        "df = pd.DataFrame(data, columns=headers)\n",
        "\n",
        "#Przetworzenie dataseries do int oraz datetime\n",
        "df.Waga = pd.to_numeric(df.Waga, errors='coerce')\n",
        "df.Data = pd.to_datetime(df.Data)\n",
        "\n",
        "# Creating statistics (plots and others)\n",
        "\n",
        "import matplotlib.pyplot as plt\n",
        "\n",
        "fig = plt.figure()\n",
        "axes1 = fig.add_axes([1,1,2,1])\n",
        "\n",
        "axes1.plot(df['Data'],df['Waga'])\n",
        "axes1.set_title('Zamiana wagi w czasie')\n",
        "\n",
        "fig.savefig('wykres1.png',dpi=100)\n",
        "#plt.xticks(rotation='vertical')"
      ],
      "execution_count": 96,
      "outputs": [
        {
          "output_type": "display_data",
          "data": {
            "image/png": "[encoded data removed]",
            "text/plain": [
              "<Figure size 432x288 with 1 Axes>"
            ]
          },
          "metadata": {
            "tags": [],
            "needs_background": "light"
          }
        }
      ]
    }
  ]
}