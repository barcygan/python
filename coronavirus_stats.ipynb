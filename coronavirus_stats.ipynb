{
  "nbformat": 4,
  "nbformat_minor": 0,
  "metadata": {
    "colab": {
      "name": "coronavirus_stats.ipynb",
      "provenance": [],
      "collapsed_sections": [],
      "authorship_tag": "ABX9TyO+Lt19J19HYh/HlVLXw9nw",
      "include_colab_link": true
    },
    "kernelspec": {
      "name": "python3",
      "display_name": "Python 3"
    }
  },
  "cells": [
    {
      "cell_type": "markdown",
      "metadata": {
        "id": "view-in-github",
        "colab_type": "text"
      },
      "source": [
        "<a href=\"https://colab.research.google.com/github/barcygan/python/blob/master/coronavirus_stats.ipynb\" target=\"_parent\"><img src=\"https://colab.research.google.com/assets/colab-badge.svg\" alt=\"Open In Colab\"/></a>"
      ]
    },
    {
      "cell_type": "code",
      "metadata": {
        "id": "95sxvq5TxYUS",
        "colab_type": "code",
        "colab": {}
      },
      "source": [
        "#Coronavirus Statistics\n",
        "\n",
        "#The idea behind this project is to create programm for creating statistics for coronavirus history\n",
        "\n",
        "\n",
        "import pandas as pd\n",
        "import numpy as np\n",
        "import matplotlib.pyplot as plt\n",
        "\n",
        "#Importing data from csv file\n",
        "url = \"https://raw.githubusercontent.com/datasets/covid-19/master/data/countries-aggregated.csv\"\n",
        "coronavirus = pd.read_csv(url)\n"
      ],
      "execution_count": null,
      "outputs": []
    },
    {
      "cell_type": "code",
      "metadata": {
        "id": "CMo2HabVwzXj",
        "colab_type": "code",
        "colab": {}
      },
      "source": [
        "#Creating new column 'Aktywne' to calculate active cases from data in file\n",
        "coronavirus['Aktywne'] = coronavirus['Confirmed'] - coronavirus['Recovered'] - coronavirus['Deaths']"
      ],
      "execution_count": null,
      "outputs": []
    },
    {
      "cell_type": "code",
      "metadata": {
        "id": "-S0w930hxFef",
        "colab_type": "code",
        "colab": {
          "base_uri": "https://localhost:8080/",
          "height": 424
        },
        "outputId": "58300894-30e8-4c90-f48b-da054ef413a2"
      },
      "source": [
        "#Selecting cases from Poland since active cases appeared\n",
        "active_poland = coronavirus[(coronavirus['Aktywne'] != 0) & (coronavirus['Country'] == 'Poland')].copy()\n"
      ],
      "execution_count": null,
      "outputs": [
        {
          "output_type": "execute_result",
          "data": {
            "text/html": [
              "<div>\n",
              "<style scoped>\n",
              "    .dataframe tbody tr th:only-of-type {\n",
              "        vertical-align: middle;\n",
              "    }\n",
              "\n",
              "    .dataframe tbody tr th {\n",
              "        vertical-align: top;\n",
              "    }\n",
              "\n",
              "    .dataframe thead th {\n",
              "        text-align: right;\n",
              "    }\n",
              "</style>\n",
              "<table border=\"1\" class=\"dataframe\">\n",
              "  <thead>\n",
              "    <tr style=\"text-align: right;\">\n",
              "      <th></th>\n",
              "      <th>Date</th>\n",
              "      <th>Country</th>\n",
              "      <th>Confirmed</th>\n",
              "      <th>Recovered</th>\n",
              "      <th>Deaths</th>\n",
              "      <th>Aktywne</th>\n",
              "    </tr>\n",
              "  </thead>\n",
              "  <tbody>\n",
              "    <tr>\n",
              "      <th>8032</th>\n",
              "      <td>2020-03-04</td>\n",
              "      <td>Poland</td>\n",
              "      <td>1</td>\n",
              "      <td>0</td>\n",
              "      <td>0</td>\n",
              "      <td>1</td>\n",
              "    </tr>\n",
              "    <tr>\n",
              "      <th>8220</th>\n",
              "      <td>2020-03-05</td>\n",
              "      <td>Poland</td>\n",
              "      <td>1</td>\n",
              "      <td>0</td>\n",
              "      <td>0</td>\n",
              "      <td>1</td>\n",
              "    </tr>\n",
              "    <tr>\n",
              "      <th>8408</th>\n",
              "      <td>2020-03-06</td>\n",
              "      <td>Poland</td>\n",
              "      <td>5</td>\n",
              "      <td>0</td>\n",
              "      <td>0</td>\n",
              "      <td>5</td>\n",
              "    </tr>\n",
              "    <tr>\n",
              "      <th>8596</th>\n",
              "      <td>2020-03-07</td>\n",
              "      <td>Poland</td>\n",
              "      <td>5</td>\n",
              "      <td>0</td>\n",
              "      <td>0</td>\n",
              "      <td>5</td>\n",
              "    </tr>\n",
              "    <tr>\n",
              "      <th>8784</th>\n",
              "      <td>2020-03-08</td>\n",
              "      <td>Poland</td>\n",
              "      <td>11</td>\n",
              "      <td>0</td>\n",
              "      <td>0</td>\n",
              "      <td>11</td>\n",
              "    </tr>\n",
              "    <tr>\n",
              "      <th>...</th>\n",
              "      <td>...</td>\n",
              "      <td>...</td>\n",
              "      <td>...</td>\n",
              "      <td>...</td>\n",
              "      <td>...</td>\n",
              "      <td>...</td>\n",
              "    </tr>\n",
              "    <tr>\n",
              "      <th>34728</th>\n",
              "      <td>2020-07-24</td>\n",
              "      <td>Poland</td>\n",
              "      <td>42038</td>\n",
              "      <td>31997</td>\n",
              "      <td>1655</td>\n",
              "      <td>8386</td>\n",
              "    </tr>\n",
              "    <tr>\n",
              "      <th>34916</th>\n",
              "      <td>2020-07-25</td>\n",
              "      <td>Poland</td>\n",
              "      <td>42622</td>\n",
              "      <td>32419</td>\n",
              "      <td>1664</td>\n",
              "      <td>8539</td>\n",
              "    </tr>\n",
              "    <tr>\n",
              "      <th>35104</th>\n",
              "      <td>2020-07-26</td>\n",
              "      <td>Poland</td>\n",
              "      <td>43065</td>\n",
              "      <td>32753</td>\n",
              "      <td>1671</td>\n",
              "      <td>8641</td>\n",
              "    </tr>\n",
              "    <tr>\n",
              "      <th>35292</th>\n",
              "      <td>2020-07-27</td>\n",
              "      <td>Poland</td>\n",
              "      <td>43402</td>\n",
              "      <td>32856</td>\n",
              "      <td>1676</td>\n",
              "      <td>8870</td>\n",
              "    </tr>\n",
              "    <tr>\n",
              "      <th>35480</th>\n",
              "      <td>2020-07-28</td>\n",
              "      <td>Poland</td>\n",
              "      <td>43904</td>\n",
              "      <td>33043</td>\n",
              "      <td>1682</td>\n",
              "      <td>9179</td>\n",
              "    </tr>\n",
              "  </tbody>\n",
              "</table>\n",
              "<p>147 rows × 6 columns</p>\n",
              "</div>"
            ],
            "text/plain": [
              "             Date Country  Confirmed  Recovered  Deaths  Aktywne\n",
              "8032   2020-03-04  Poland          1          0       0        1\n",
              "8220   2020-03-05  Poland          1          0       0        1\n",
              "8408   2020-03-06  Poland          5          0       0        5\n",
              "8596   2020-03-07  Poland          5          0       0        5\n",
              "8784   2020-03-08  Poland         11          0       0       11\n",
              "...           ...     ...        ...        ...     ...      ...\n",
              "34728  2020-07-24  Poland      42038      31997    1655     8386\n",
              "34916  2020-07-25  Poland      42622      32419    1664     8539\n",
              "35104  2020-07-26  Poland      43065      32753    1671     8641\n",
              "35292  2020-07-27  Poland      43402      32856    1676     8870\n",
              "35480  2020-07-28  Poland      43904      33043    1682     9179\n",
              "\n",
              "[147 rows x 6 columns]"
            ]
          },
          "metadata": {
            "tags": []
          },
          "execution_count": 4
        }
      ]
    },
    {
      "cell_type": "code",
      "metadata": {
        "id": "lQ2fPWLFnoE4",
        "colab_type": "code",
        "colab": {}
      },
      "source": [
        "#Creating class for data manipulation\n",
        "\n",
        "class Coronavirus_Poland():\n",
        "\n",
        "  def __init__(self):\n",
        "    self\n",
        "  #Creating class to select date range and show dataframe \n",
        "\n",
        "  def choose_date_range(self,start_date,end_date):\n",
        "    self.start_date=start_date\n",
        "    self.end_date=end_date\n",
        "    print(active_poland[(active_poland['Date'] >= start_date) & (active_poland['Date']  <= end_date)])\n",
        "\n",
        "  #Creating class to pirint a plot of active cases in selected data range\n",
        "  def print_chart(self,start_date,end_date):\n",
        "    \n",
        "    self.start_date=start_date\n",
        "    self.end_date=end_date\n",
        "    date_range = active_poland[(active_poland['Date'] >= start_date) & (active_poland['Date']  <= end_date)]\n",
        "\n",
        "    fig = plt.figure()\n",
        "    axes1 = fig.add_axes([0,0,2,2])\n",
        "    axes1.plot(date_range['Date'], date_range['Aktywne'])\n",
        "    axes1.set_title('Przypadki aktywne')"
      ],
      "execution_count": null,
      "outputs": []
    },
    {
      "cell_type": "code",
      "metadata": {
        "id": "YzLBEWMZB4Oo",
        "colab_type": "code",
        "colab": {
          "base_uri": "https://localhost:8080/",
          "height": 640
        },
        "outputId": "cec8cf54-7fee-4f4c-a8ef-4faa4f09c0d7"
      },
      "source": [
        "ex1 = Coronavirus_Poland()\n",
        "ex1.print_chart('2020-06-01','2020-07-02')"
      ],
      "execution_count": null,
      "outputs": [
        {
          "output_type": "display_data",
          "data": {
            "image/png": "[encoded data removed]",
            "text/plain": [
              "<Figure size 432x288 with 1 Axes>"
            ]
          },
          "metadata": {
            "tags": [],
            "needs_background": "light"
          }
        }
      ]
    },
    {
      "cell_type": "code",
      "metadata": {
        "id": "tlY-F0eUp_bv",
        "colab_type": "code",
        "colab": {
          "base_uri": "https://localhost:8080/",
          "height": 267
        },
        "outputId": "961d4aa2-71f0-4125-dd68-6de9fcac56c0"
      },
      "source": [
        "ex1.choose_date_range('2020-04-01', '2020-07-28')"
      ],
      "execution_count": null,
      "outputs": [
        {
          "output_type": "stream",
          "text": [
            "             Date Country  Confirmed  Recovered  Deaths  Aktywne\n",
            "13296  2020-04-01  Poland       2554         47      43     2464\n",
            "13484  2020-04-02  Poland       2946         56      57     2833\n",
            "13672  2020-04-03  Poland       3383         56      71     3256\n",
            "13860  2020-04-04  Poland       3627        116      79     3432\n",
            "14048  2020-04-05  Poland       4102        134      94     3874\n",
            "...           ...     ...        ...        ...     ...      ...\n",
            "34728  2020-07-24  Poland      42038      31997    1655     8386\n",
            "34916  2020-07-25  Poland      42622      32419    1664     8539\n",
            "35104  2020-07-26  Poland      43065      32753    1671     8641\n",
            "35292  2020-07-27  Poland      43402      32856    1676     8870\n",
            "35480  2020-07-28  Poland      43904      33043    1682     9179\n",
            "\n",
            "[119 rows x 6 columns]\n"
          ],
          "name": "stdout"
        }
      ]
    }
  ]
}