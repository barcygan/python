{
  "nbformat": 4,
  "nbformat_minor": 0,
  "metadata": {
    "colab": {
      "name": "kalkulator_wagi.ipynb",
      "provenance": [],
      "collapsed_sections": [],
      "mount_file_id": "1uwty6E0PL0w-NyO_1J9s6vKj-gNgxOJB",
      "authorship_tag": "ABX9TyPavRSct0+ggUSs1oJaBU/H",
      "include_colab_link": true
    },
    "kernelspec": {
      "name": "python3",
      "display_name": "Python 3"
    }
  },
  "cells": [
    {
      "cell_type": "markdown",
      "metadata": {
        "id": "view-in-github",
        "colab_type": "text"
      },
      "source": [
        "<a href=\"https://colab.research.google.com/github/barcygan/python/blob/master/weight_history_with_data_input.ipynb\" target=\"_parent\"><img src=\"https://colab.research.google.com/assets/colab-badge.svg\" alt=\"Open In Colab\"/></a>"
      ]
    },
    {
      "cell_type": "markdown",
      "metadata": {
        "id": "WlAP7pW4aa5G",
        "colab_type": "text"
      },
      "source": [
        "**Weight measuerement data based on Google Sheet (COLAB)**\n",
        "\n",
        "What for? \n",
        "1.   Saving history of Your weight measurement\n",
        "2.   Checking history of Your weight measurement\n",
        "3.   Data visualisation for Your progress (or recourse :(( )\n",
        "[link text](https://)\n"
      ]
    },
    {
      "cell_type": "code",
      "metadata": {
        "id": "98-8d4wFvRc0",
        "colab_type": "code",
        "colab": {
          "base_uri": "https://localhost:8080/",
          "height": 53
        },
        "outputId": "51709738-03ce-40c1-c31f-f16ffdd601c0"
      },
      "source": [
        "\n",
        "\n",
        "###########################################################################\n",
        "#Getting current weight measurement\n",
        "\n",
        "while True:\n",
        "    try:\n",
        "        waga = int(input(\"Please enter your weight: \"))\n",
        "    except ValueError:\n",
        "        print(\"To nie jest liczba.\")\n",
        "        continue\n",
        "    else:\n",
        "        #Weight was successfully parsed!\n",
        "        break\n",
        "\n",
        "\n",
        "print(f'Twoja dzisiejsza waga to : {waga} kg')\n",
        "\n",
        "#########################################################################\n",
        "import gspread\n",
        "from oauth2client.service_account import ServiceAccountCredentials\n",
        "import gspread\n",
        "import pandas as pd\n",
        "from datetime import datetime\n",
        "import seaborn as sns\n",
        "import numpy as np\n",
        "import matplotlib.pyplot as plt\n",
        "\n",
        "#Connecting to Google Sheets\n",
        "\n",
        "# use creds to create a client to interact with the Google Drive API\n",
        "scope = ['https://spreadsheets.google.com/feeds', 'https://www.googleapis.com/auth/drive']\n",
        "path='/content/drive/My Drive/Colab Notebooks/bigquery-262509-fbf7094d4de6.json'\n",
        "creds = ServiceAccountCredentials.from_json_keyfile_name(path, scope)\n",
        "client = gspread.authorize(creds)\n",
        "\n",
        "# Find a workbook by name and open the first sheet\n",
        "sheet = client.open(\"waga\").sheet1\n",
        "\n",
        "\n",
        "#Looking for last free row to fill up with datas\n",
        "sheet_size = len(sheet.col_values(1))\n",
        "\n",
        "#Getting current date\n",
        "########### TO DO : asking and checking if measurement time == current date\n",
        "\n",
        "data_dzisiaj = datetime.today().strftime('%Y-%m-%d')\n",
        "\n",
        "#Add current weight and weight measurement time to Google Sheet\n",
        "\n",
        "append_date =  sheet.update_cell(sheet_size+1, 2, data_dzisiaj)\n",
        "append_weight =  sheet.update_cell(sheet_size+1, 1, waga)\n",
        "\n",
        "\n"
      ],
      "execution_count": 141,
      "outputs": [
        {
          "output_type": "stream",
          "text": [
            "Please enter your weight: 123\n",
            "Twoja dzisiejsza waga to : 123 kg\n"
          ],
          "name": "stdout"
        }
      ]
    },
    {
      "cell_type": "code",
      "metadata": {
        "id": "SNrzYdhB0YBn",
        "colab_type": "code",
        "colab": {
          "base_uri": "https://localhost:8080/",
          "height": 370
        },
        "outputId": "ed45bf65-d3f2-4355-e207-1d6d4de70eff"
      },
      "source": [
        "#Odczytanie arkusza w pandas\n",
        "\n",
        "\n",
        "data = sheet.get_all_values()\n",
        "headers = data.pop(0)\n",
        "\n",
        "df = pd.DataFrame(data, columns=headers)\n",
        "\n",
        "#Przetworzenie dataseries do int oraz datetime\n",
        "\n",
        "df.Waga = pd.to_numeric(df.Waga, errors='coerce').fillna(0).astype(np.int64)\n",
        "df.Data = pd.to_datetime(df.Data)\n",
        "\n",
        "# Creating statistics (plots and others)\n",
        "\n",
        "import matplotlib.pyplot as plt\n",
        "\n",
        "fig = plt.figure()\n",
        "axes1 = fig.add_axes([1,1,2,1])\n",
        "\n",
        "axes1.plot(df['Data'],df['Waga'])\n",
        "axes1.set_title('Zamiana wagi w czasie')\n",
        "\n",
        "\n",
        "#plt.xticks(rotation='vertical')"
      ],
      "execution_count": 153,
      "outputs": [
        {
          "output_type": "execute_result",
          "data": {
            "text/plain": [
              "Text(0.5, 1.0, 'Zamiana wagi w czasie')"
            ]
          },
          "metadata": {
            "tags": []
          },
          "execution_count": 153
        },
        {
          "output_type": "display_data",
          "data": {
            "image/png": "[encoded data removed]",
            "text/plain": [
              "<Figure size 432x288 with 1 Axes>"
            ]
          },
          "metadata": {
            "tags": [],
            "needs_background": "light"
          }
        }
      ]
    }
  ]
}