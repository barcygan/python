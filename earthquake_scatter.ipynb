{
  "nbformat": 4,
  "nbformat_minor": 0,
  "metadata": {
    "colab": {
      "name": "earthquake_scatter.ipynb",
      "provenance": [],
      "mount_file_id": "1iSeTWJZgMmqktateu5jpaDn249SBZD5v",
      "authorship_tag": "ABX9TyNRUH1bvyu5wdv4ptlgG3Rf",
      "include_colab_link": true
    },
    "kernelspec": {
      "name": "python3",
      "display_name": "Python 3"
    }
  },
  "cells": [
    {
      "cell_type": "markdown",
      "metadata": {
        "id": "view-in-github",
        "colab_type": "text"
      },
      "source": [
        "<a href=\"https://colab.research.google.com/github/barcygan/python/blob/master/earthquake_scatter.ipynb\" target=\"_parent\"><img src=\"https://colab.research.google.com/assets/colab-badge.svg\" alt=\"Open In Colab\"/></a>"
      ]
    },
    {
      "cell_type": "code",
      "metadata": {
        "id": "cPxOcS_QCy3Q"
      },
      "source": [
        "import json\n",
        "import pandas as pd\n",
        "import numpy as np\n",
        "import matplotlib.pyplot as plt\n",
        "from plotly.graph_objs import Scattergeo,Layout\n",
        "from plotly import offline\n",
        "\n",
        "url = '/content/drive/My Drive/Colab Notebooks/2.5_day.csv'\n",
        "\n",
        "dataframe = pd.read_csv(url)\n"
      ],
      "execution_count": 8,
      "outputs": []
    },
    {
      "cell_type": "code",
      "metadata": {
        "id": "3b02TNsYEQXm",
        "outputId": "cbf4cfd3-7890-4ade-a134-31bf8c3ed9b9",
        "colab": {
          "base_uri": "https://localhost:8080/",
          "height": 36
        }
      },
      "source": [
        "data = [Scattergeo(lon=dataframe['longitude'], lat = dataframe['latitude'])]\n",
        "my_layout = Layout(title = 'Trzesienia ziemi na swiecie')\n",
        "fig = {'data' : data, 'layout':my_layout}\n",
        "offline.plot(fig, filename='wykres.html')"
      ],
      "execution_count": 17,
      "outputs": [
        {
          "output_type": "execute_result",
          "data": {
            "application/vnd.google.colaboratory.intrinsic+json": {
              "type": "string"
            },
            "text/plain": [
              "'wykres.html'"
            ]
          },
          "metadata": {
            "tags": []
          },
          "execution_count": 17
        }
      ]
    },
    {
      "cell_type": "code",
      "metadata": {
        "id": "6y_p71OBFR6T",
        "outputId": "10841349-9d25-4df0-b092-600adbf95b3d",
        "colab": {
          "base_uri": "https://localhost:8080/"
        }
      },
      "source": [
        ""
      ],
      "execution_count": 11,
      "outputs": [
        {
          "output_type": "execute_result",
          "data": {
            "text/plain": [
              "[Scattergeo({\n",
              "     'lat': array([ -4.8127    ,  40.9668    ,  38.1657    ,  17.9265    ,  38.1675    ,\n",
              "                    10.184     ,  17.9585    ,  -9.2205    ,  14.2422    ,  36.4864    ,\n",
              "                    19.39816666,   2.6794    ,  59.8952    , -33.5922    ,  17.9025    ,\n",
              "                    -5.5746    ,  17.9576    ,  39.0138    ,  17.9595    ,  21.7419    ,\n",
              "                    21.651     ,  36.8045006 , -29.9603    ,  17.8865    ,  36.8046684 ,\n",
              "                    19.39166667,   0.3263    ,  17.9748    ,   5.367     ,  28.9439    ,\n",
              "                    19.11833382,  19.44933319,  41.6846    ,  17.9818    ,  41.6294    ]),\n",
              "     'lon': array([ -77.2501    ,   73.5655    , -118.0992    ,  -67.1171    ,\n",
              "                   -118.099     ,  126.2388    ,  -66.9488    ,  118.1456    ,\n",
              "                    -91.7676    ,   70.7404    , -155.25765991,  125.9638    ,\n",
              "                   -148.4601    ,  -70.4096    ,  -66.8678    ,  150.3358    ,\n",
              "                    -63.0983    , -118.8092    ,  -66.7583    ,  121.7666    ,\n",
              "                    121.8976    , -121.5313339 ,  -71.5816    ,  -66.8675    ,\n",
              "                   -121.5311661 , -155.2475    ,  121.612     ,  -66.8828    ,\n",
              "                    126.3999    ,   47.7158    , -155.477005  , -155.33050537,\n",
              "                     20.6539    ,  -66.7338    ,   20.7004    ])\n",
              " })]"
            ]
          },
          "metadata": {
            "tags": []
          },
          "execution_count": 11
        }
      ]
    }
  ]
}